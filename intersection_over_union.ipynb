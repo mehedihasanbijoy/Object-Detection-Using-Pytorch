{
  "nbformat": 4,
  "nbformat_minor": 0,
  "metadata": {
    "colab": {
      "name": "intersection_over_union.ipynb",
      "provenance": [],
      "collapsed_sections": []
    },
    "kernelspec": {
      "name": "python3",
      "display_name": "Python 3"
    },
    "language_info": {
      "name": "python"
    }
  },
  "cells": [
    {
      "cell_type": "code",
      "metadata": {
        "id": "ipOt24dYv-8a"
      },
      "source": [
        "def get_iou(boxA, boxB, epsilon=1e-5):\n",
        "    '''\n",
        "        boxA: (list) ground truth bbox\n",
        "        boxB: (list) region proposal bbox\n",
        "        epsilon: (float) to avoid ZeroDivisionError\n",
        "    '''\n",
        "    x1 = max(boxA[0], boxB[0])\n",
        "    y1 = max(boxA[1], boxB[1])\n",
        "    x2 = min(boxA[2], boxB[2])\n",
        "    y2 = min(boxA[3], boxB[3])\n",
        "    width = x2 - x1\n",
        "    height = y2 - y1\n",
        "    if (width <= 0) or (height <= 0):\n",
        "        return 0.\n",
        "    intersection = width * height # area of overlap\n",
        "\n",
        "    area_a = (boxA[2] - boxA[0]) * (boxA[3] - boxA[1])\n",
        "    area_b = (boxB[2] - boxB[0]) * (boxB[3] - boxB[1])\n",
        "    union = area_a + area_b - intersection # combined area of overlap \n",
        "\n",
        "    return intersection / (union + epsilon)"
      ],
      "execution_count": 1,
      "outputs": []
    },
    {
      "cell_type": "code",
      "metadata": {
        "colab": {
          "base_uri": "https://localhost:8080/"
        },
        "id": "cYgtU5TgtESv",
        "outputId": "aaf97429-3451-4c3f-9bf6-71ccd41f3c9c"
      },
      "source": [
        "test_boxA = [12, 18, 120, 200]\n",
        "test_boxB = [10, 15, 130, 180]\n",
        "\n",
        "get_iou(boxA=test_boxA, boxB=test_boxB)"
      ],
      "execution_count": 2,
      "outputs": [
        {
          "output_type": "execute_result",
          "data": {
            "text/plain": [
              "0.7967213111126041"
            ]
          },
          "metadata": {},
          "execution_count": 2
        }
      ]
    }
  ]
}